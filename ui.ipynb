{
 "cells": [
  {
   "cell_type": "code",
   "execution_count": null,
   "id": "6f434bc9",
   "metadata": {},
   "outputs": [],
   "source": [
    "import json\n",
    "from pathlib import Path\n",
    "import ee\n",
    "\n",
    "\n",
    "def authenticate_gee():\n",
    "    \"\"\"Authenticate GEE using the credentials file in the user's home directory.\"\"\"\n",
    "    credential_folder_path = Path.home() / \".config\" / \"earthengine\"\n",
    "    credential_file_path = credential_folder_path / \"credentials\"\n",
    "    credentials = json.loads(credential_file_path.read_text())\n",
    "    project = credentials.get(\"project_id\", credentials.get(\"project\", None))\n",
    "    ee.Initialize(project=project)\n",
    "    assert ee.data.getAssetRoots(), \"Error: You have not initialized the GEE home folder. Please follow the the SEPAL documentation: https://docs.sepal.io/en/latest/setup/gee.html#initialize-the-home-folder.\"\n",
    "    \n",
    "authenticate_gee()\n"
   ]
  },
  {
   "cell_type": "markdown",
   "metadata": {},
   "source": [
    "<center><h1 class=\"text-center h3\" id=\"loading-app\">Setting things up for you... Thanks for waiting!</h1></center>"
   ]
  },
  {
   "cell_type": "code",
   "execution_count": null,
   "metadata": {},
   "outputs": [],
   "source": [
    "from sepal_ui import sepalwidgets as sw\n",
    "from component.message import cm\n",
    "from component import tile"
   ]
  },
  {
   "cell_type": "code",
   "execution_count": null,
   "metadata": {},
   "outputs": [],
   "source": [
    "# Create an appBar\n",
    "app_bar = sw.AppBar(cm.app.title, cm)"
   ]
  },
  {
   "cell_type": "code",
   "execution_count": null,
   "metadata": {},
   "outputs": [],
   "source": [
    "about_tile = sw.TileAbout(\"utils/ABOUT.md\")"
   ]
  },
  {
   "cell_type": "code",
   "execution_count": null,
   "metadata": {},
   "outputs": [],
   "source": [
    "disclaimer_tile = sw.TileDisclaimer()"
   ]
  },
  {
   "cell_type": "code",
   "execution_count": null,
   "metadata": {},
   "outputs": [],
   "source": [
    "map_tile = tile.MapTile()"
   ]
  },
  {
   "cell_type": "code",
   "execution_count": null,
   "metadata": {},
   "outputs": [],
   "source": [
    "app_content = [map_tile]"
   ]
  },
  {
   "cell_type": "code",
   "execution_count": null,
   "metadata": {},
   "outputs": [],
   "source": [
    "# Add the links to the code, wiki and issue tracker of your\n",
    "code_link = \"https://github.com/sepal-contrib/planet-order\"\n",
    "wiki_link = \"https://github.com/sepal-contrib/planet-order/blob/main/doc/en.rst\"\n",
    "issue_link = \"https://github.com/sepal-contrib/planet-order/issues/new\"\n",
    "\n",
    "# Create the side drawer with all its components\n",
    "map_tile.set_code(code_link)\n",
    "map_tile.set_wiki(wiki_link)\n",
    "map_tile.set_issue(issue_link)"
   ]
  },
  {
   "cell_type": "code",
   "execution_count": null,
   "metadata": {},
   "outputs": [],
   "source": [
    "# build the Html final app by gathering everything\n",
    "app = sw.App(\n",
    "    tiles=app_content,\n",
    "    appBar=app_bar,\n",
    "    translator=cm,\n",
    ")"
   ]
  },
  {
   "cell_type": "code",
   "execution_count": null,
   "metadata": {},
   "outputs": [],
   "source": [
    "# display the app\n",
    "app.show_tile(\"map_tile\")"
   ]
  }
 ],
 "metadata": {
  "kernelspec": {
   "display_name": "(venv) planet-order",
   "language": "python",
   "name": "venv-planet-order"
  },
  "language_info": {
   "codemirror_mode": {
    "name": "ipython",
    "version": 3
   },
   "file_extension": ".py",
   "mimetype": "text/x-python",
   "name": "python",
   "nbconvert_exporter": "python",
   "pygments_lexer": "ipython3",
   "version": "3.10.12"
  },
  "voila": {
   "theme": "dark"
  }
 },
 "nbformat": 4,
 "nbformat_minor": 4
}
